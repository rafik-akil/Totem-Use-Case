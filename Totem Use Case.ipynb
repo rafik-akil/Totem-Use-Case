{
 "cells": [
  {
   "cell_type": "markdown",
   "metadata": {},
   "source": [
    "# TOTEM USE CASE"
   ]
  },
  {
   "cell_type": "code",
   "execution_count": 2,
   "metadata": {},
   "outputs": [],
   "source": [
    "# Importation des librairies \n",
    "import numpy as np\n",
    "import pandas as pd\n",
    "import matplotlib.pyplot as plt\n",
    "import seaborn as sns"
   ]
  },
  {
   "cell_type": "markdown",
   "metadata": {},
   "source": [
    "## Prise de Notes\n",
    "\n",
    "### Analyse de Forme : \n",
    "- Lignes et colonnes : 1811 et 15\n",
    "- Types de variable : 3 quantitatives, 7 qualitatives et 5 dont on ne tiendra pas compte dans cette analyse (car redondantes ou pas intéressantes)\n",
    "- Analyse des valeurs manquantes : 61% des produits n'ont pas de nutriscore \n",
    "\n",
    "### Analyse de Fond :\n",
    "- Problème dans la colonne nutriscore : le score est écrit en majuscule ou en minuscule, ce qui crée plus de catégories\n",
    "- Moment de la journée où il y a le plus d'achat : autour de 13h (logique car heure du déjeuner) mais il y a tout de même des achats tout au long de la journée\n",
    "- L'extreme majorité des produits plait beaucoup (avec une moyenne de 4.25/5 attribuée par les clients) cependant quelques 0/5 (peut-être incidents rencontrés avec certains produits ?)\n",
    "- 2 organizationId => ce dataset concerne les opérations effectuées dans 2 magasins (avec 69% d'achat dans le 1er magasin contre 31% dans le second).\n",
    "- Les achats sont répartis plutôt uniformément tout au long de la semaine mais on remarque tout de même une augmentation croissante (de 17% le lundi à 22% le vendredi).\n",
    "- Les plats représentent plus d'1/4 des achats tandis que les boissons fraîches et les snacks sont minoritaires (15% et 17% => lié au fait que ce soit la periode hivernale les gens préfèrent consommer des plats et boissons chaudes)\n",
    "- Près de 2/3 (63%) des produits achetés ont un nutriscore supérieur ou égal à B\n",
    "\n",
    "### Analyse plus détaillée :\n",
    "- La note de 0 a été attribuée 65 fois dont 45 fois sur des snacks individuels et 11 fois sur des produits dont le nutriscore etait disponible et inferieur ou égal à D\n",
    "- Les produits bio sont en moyenne mieux notés (4.81/5 contre 4.19/5) et les desserts et entrée bio coûtent moins cher (attention ici les produits bio coûtent moins cher en moyenne car il n'y a pas de plat bio, or les plats sont les produits les plus chers) \n",
    "- Les produits vegans coûtent en moyenne moins cher (2,07€ contre 3,17€) mais sont moins bien notés (3,93/5 contre 4.3/5\n",
    "- Les produits made in france coûtent plus cher pour toutes les catégories de produits mais sont en moyenne mieux notés (4.28/5 contre 4.16/5).\n"
   ]
  },
  {
   "cell_type": "markdown",
   "metadata": {},
   "source": [
    "## Lecture du fichier xlsx"
   ]
  },
  {
   "cell_type": "code",
   "execution_count": 3,
   "metadata": {
    "scrolled": true
   },
   "outputs": [
    {
     "data": {
      "text/html": [
       "<div>\n",
       "<style scoped>\n",
       "    .dataframe tbody tr th:only-of-type {\n",
       "        vertical-align: middle;\n",
       "    }\n",
       "\n",
       "    .dataframe tbody tr th {\n",
       "        vertical-align: top;\n",
       "    }\n",
       "\n",
       "    .dataframe thead th {\n",
       "        text-align: right;\n",
       "    }\n",
       "</style>\n",
       "<table border=\"1\" class=\"dataframe\">\n",
       "  <thead>\n",
       "    <tr style=\"text-align: right;\">\n",
       "      <th></th>\n",
       "      <th>transactionId</th>\n",
       "      <th>organizationId</th>\n",
       "      <th>userId</th>\n",
       "      <th>transaction_date</th>\n",
       "      <th>transaction_hour</th>\n",
       "      <th>transaction_day_of_week</th>\n",
       "      <th>productId</th>\n",
       "      <th>product_price_in_euros</th>\n",
       "      <th>product_rating</th>\n",
       "      <th>product_is_bio</th>\n",
       "      <th>product_is_made_in_france</th>\n",
       "      <th>product_is_vegan</th>\n",
       "      <th>product_category_id</th>\n",
       "      <th>product_category_name</th>\n",
       "      <th>product_nutriscore</th>\n",
       "    </tr>\n",
       "  </thead>\n",
       "  <tbody>\n",
       "    <tr>\n",
       "      <th>0</th>\n",
       "      <td>0</td>\n",
       "      <td>734116177bdc841eee69b50f4473bcdb</td>\n",
       "      <td>90ec88e848624dedeaf26ba674e3432d</td>\n",
       "      <td>2021-01-06T10:00:00</td>\n",
       "      <td>10.0</td>\n",
       "      <td>Wednesday</td>\n",
       "      <td>60206273255ce27486c2eeaf14302742</td>\n",
       "      <td>3.0</td>\n",
       "      <td>4.0</td>\n",
       "      <td>False</td>\n",
       "      <td>True</td>\n",
       "      <td>False</td>\n",
       "      <td>6669360d03ea7dc60e40cdb906e05ced</td>\n",
       "      <td>Entrées</td>\n",
       "      <td>NaN</td>\n",
       "    </tr>\n",
       "    <tr>\n",
       "      <th>1</th>\n",
       "      <td>1</td>\n",
       "      <td>68d5360852db85dbbec879986b718e08</td>\n",
       "      <td>0652b92e4488e4fbb0a57cbbd8331004</td>\n",
       "      <td>2021-02-19T12:00:00</td>\n",
       "      <td>12.0</td>\n",
       "      <td>Friday</td>\n",
       "      <td>55e573d02e1b4032a9cde29cb9167d96</td>\n",
       "      <td>3.0</td>\n",
       "      <td>5.0</td>\n",
       "      <td>False</td>\n",
       "      <td>True</td>\n",
       "      <td>False</td>\n",
       "      <td>e73ddac97df34064e7960bbaea1dab33</td>\n",
       "      <td>Desserts</td>\n",
       "      <td>NaN</td>\n",
       "    </tr>\n",
       "    <tr>\n",
       "      <th>2</th>\n",
       "      <td>2</td>\n",
       "      <td>734116177bdc841eee69b50f4473bcdb</td>\n",
       "      <td>24654995b33ec871705d73d9929fbbe7</td>\n",
       "      <td>2021-01-23T14:00:00</td>\n",
       "      <td>14.0</td>\n",
       "      <td>Saturday</td>\n",
       "      <td>60c48c5211d4016331387c99ea3222ee</td>\n",
       "      <td>1.0</td>\n",
       "      <td>4.0</td>\n",
       "      <td>False</td>\n",
       "      <td>False</td>\n",
       "      <td>False</td>\n",
       "      <td>893b2f48522acf235d4a6d23c078392a</td>\n",
       "      <td>Snacks Individuels</td>\n",
       "      <td>NaN</td>\n",
       "    </tr>\n",
       "    <tr>\n",
       "      <th>3</th>\n",
       "      <td>3</td>\n",
       "      <td>68d5360852db85dbbec879986b718e08</td>\n",
       "      <td>582242a74e8f6b6e5c2d7807e2f0be38</td>\n",
       "      <td>2021-02-10T10:00:00</td>\n",
       "      <td>10.0</td>\n",
       "      <td>Wednesday</td>\n",
       "      <td>1a40b882e3cbbce1d3f6e5b8d6929509</td>\n",
       "      <td>7.0</td>\n",
       "      <td>4.0</td>\n",
       "      <td>False</td>\n",
       "      <td>True</td>\n",
       "      <td>False</td>\n",
       "      <td>bf7cf1616b4eae23dd6bd6cc8aaa6369</td>\n",
       "      <td>Plats</td>\n",
       "      <td>NaN</td>\n",
       "    </tr>\n",
       "    <tr>\n",
       "      <th>4</th>\n",
       "      <td>4</td>\n",
       "      <td>734116177bdc841eee69b50f4473bcdb</td>\n",
       "      <td>c8371e35ef59783e84b723877f3d9c66</td>\n",
       "      <td>2021-01-27T09:00:00</td>\n",
       "      <td>9.0</td>\n",
       "      <td>Wednesday</td>\n",
       "      <td>3b726bd8d1899684f8741a470ec7b51e</td>\n",
       "      <td>1.0</td>\n",
       "      <td>4.0</td>\n",
       "      <td>True</td>\n",
       "      <td>False</td>\n",
       "      <td>True</td>\n",
       "      <td>893b2f48522acf235d4a6d23c078392a</td>\n",
       "      <td>Snacks Individuels</td>\n",
       "      <td>NaN</td>\n",
       "    </tr>\n",
       "  </tbody>\n",
       "</table>\n",
       "</div>"
      ],
      "text/plain": [
       "   transactionId                    organizationId  \\\n",
       "0              0  734116177bdc841eee69b50f4473bcdb   \n",
       "1              1  68d5360852db85dbbec879986b718e08   \n",
       "2              2  734116177bdc841eee69b50f4473bcdb   \n",
       "3              3  68d5360852db85dbbec879986b718e08   \n",
       "4              4  734116177bdc841eee69b50f4473bcdb   \n",
       "\n",
       "                             userId     transaction_date  transaction_hour  \\\n",
       "0  90ec88e848624dedeaf26ba674e3432d  2021-01-06T10:00:00              10.0   \n",
       "1  0652b92e4488e4fbb0a57cbbd8331004  2021-02-19T12:00:00              12.0   \n",
       "2  24654995b33ec871705d73d9929fbbe7  2021-01-23T14:00:00              14.0   \n",
       "3  582242a74e8f6b6e5c2d7807e2f0be38  2021-02-10T10:00:00              10.0   \n",
       "4  c8371e35ef59783e84b723877f3d9c66  2021-01-27T09:00:00               9.0   \n",
       "\n",
       "  transaction_day_of_week                         productId  \\\n",
       "0               Wednesday  60206273255ce27486c2eeaf14302742   \n",
       "1                  Friday  55e573d02e1b4032a9cde29cb9167d96   \n",
       "2                Saturday  60c48c5211d4016331387c99ea3222ee   \n",
       "3               Wednesday  1a40b882e3cbbce1d3f6e5b8d6929509   \n",
       "4               Wednesday  3b726bd8d1899684f8741a470ec7b51e   \n",
       "\n",
       "   product_price_in_euros  product_rating  product_is_bio  \\\n",
       "0                     3.0             4.0           False   \n",
       "1                     3.0             5.0           False   \n",
       "2                     1.0             4.0           False   \n",
       "3                     7.0             4.0           False   \n",
       "4                     1.0             4.0            True   \n",
       "\n",
       "   product_is_made_in_france  product_is_vegan  \\\n",
       "0                       True             False   \n",
       "1                       True             False   \n",
       "2                      False             False   \n",
       "3                       True             False   \n",
       "4                      False              True   \n",
       "\n",
       "                product_category_id product_category_name product_nutriscore  \n",
       "0  6669360d03ea7dc60e40cdb906e05ced               Entrées                NaN  \n",
       "1  e73ddac97df34064e7960bbaea1dab33              Desserts                NaN  \n",
       "2  893b2f48522acf235d4a6d23c078392a    Snacks Individuels                NaN  \n",
       "3  bf7cf1616b4eae23dd6bd6cc8aaa6369                 Plats                NaN  \n",
       "4  893b2f48522acf235d4a6d23c078392a    Snacks Individuels                NaN  "
      ]
     },
     "execution_count": 3,
     "metadata": {},
     "output_type": "execute_result"
    }
   ],
   "source": [
    "data = pd.read_excel('dataset_stage_data_analytics.xlsx')\n",
    "data.head()"
   ]
  },
  {
   "cell_type": "code",
   "execution_count": 4,
   "metadata": {},
   "outputs": [],
   "source": [
    "# copie du tableau pandas pour travailler dessus\n",
    "df = data.copy()"
   ]
  },
  {
   "cell_type": "markdown",
   "metadata": {},
   "source": [
    "## Analyse de Forme"
   ]
  },
  {
   "cell_type": "code",
   "execution_count": 5,
   "metadata": {},
   "outputs": [
    {
     "data": {
      "text/plain": [
       "(1811, 15)"
      ]
     },
     "execution_count": 5,
     "metadata": {},
     "output_type": "execute_result"
    }
   ],
   "source": [
    "df.shape"
   ]
  },
  {
   "cell_type": "code",
   "execution_count": 6,
   "metadata": {},
   "outputs": [
    {
     "data": {
      "text/plain": [
       "object     8\n",
       "bool       3\n",
       "float64    3\n",
       "int64      1\n",
       "dtype: int64"
      ]
     },
     "execution_count": 6,
     "metadata": {},
     "output_type": "execute_result"
    }
   ],
   "source": [
    "df.dtypes.value_counts()"
   ]
  },
  {
   "cell_type": "code",
   "execution_count": 48,
   "metadata": {},
   "outputs": [
    {
     "data": {
      "text/plain": [
       "transactionId                0.000000\n",
       "organizationId               0.000000\n",
       "transaction_hour             0.000000\n",
       "transaction_day_of_week      0.000000\n",
       "product_price_in_euros       0.000000\n",
       "product_rating               0.000000\n",
       "product_is_bio               0.000000\n",
       "product_is_made_in_france    0.000000\n",
       "product_is_vegan             0.000000\n",
       "product_category_name        0.000000\n",
       "product_nutriscore           0.614578\n",
       "dtype: float64"
      ]
     },
     "execution_count": 48,
     "metadata": {},
     "output_type": "execute_result"
    }
   ],
   "source": [
    "# Analyse des NaN\n",
    "(df.isna().sum()/df.shape[0]).sort_values(ascending=True)"
   ]
  },
  {
   "cell_type": "markdown",
   "metadata": {},
   "source": [
    "## Analyse de Fond"
   ]
  },
  {
   "cell_type": "markdown",
   "metadata": {},
   "source": [
    "### Elimination des colonnes qui ne nous intéressent pas"
   ]
  },
  {
   "cell_type": "code",
   "execution_count": 8,
   "metadata": {},
   "outputs": [],
   "source": [
    "df = df.drop(['userId', 'productId','product_category_id','transaction_date'],axis=1)"
   ]
  },
  {
   "cell_type": "markdown",
   "metadata": {},
   "source": [
    "### Visualisation des variables quantitatives"
   ]
  },
  {
   "cell_type": "code",
   "execution_count": 9,
   "metadata": {
    "scrolled": true
   },
   "outputs": [
    {
     "name": "stderr",
     "output_type": "stream",
     "text": [
      "/opt/anaconda3/lib/python3.8/site-packages/seaborn/distributions.py:2551: FutureWarning: `distplot` is a deprecated function and will be removed in a future version. Please adapt your code to use either `displot` (a figure-level function with similar flexibility) or `histplot` (an axes-level function for histograms).\n",
      "  warnings.warn(msg, FutureWarning)\n",
      "/opt/anaconda3/lib/python3.8/site-packages/seaborn/distributions.py:2551: FutureWarning: `distplot` is a deprecated function and will be removed in a future version. Please adapt your code to use either `displot` (a figure-level function with similar flexibility) or `histplot` (an axes-level function for histograms).\n",
      "  warnings.warn(msg, FutureWarning)\n",
      "/opt/anaconda3/lib/python3.8/site-packages/seaborn/distributions.py:2551: FutureWarning: `distplot` is a deprecated function and will be removed in a future version. Please adapt your code to use either `displot` (a figure-level function with similar flexibility) or `histplot` (an axes-level function for histograms).\n",
      "  warnings.warn(msg, FutureWarning)\n"
     ]
    },
    {
     "data": {
      "image/png": "[encoded data removed]",
      "text/plain": [
       "<Figure size 432x288 with 1 Axes>"
      ]
     },
     "metadata": {
      "needs_background": "light"
     },
     "output_type": "display_data"
    },
    {
     "data": {
      "image/png": "[encoded data removed]",
      "text/plain": [
       "<Figure size 432x288 with 1 Axes>"
      ]
     },
     "metadata": {
      "needs_background": "light"
     },
     "output_type": "display_data"
    },
    {
     "data": {
      "image/png": "[encoded data removed]",
      "text/plain": [
       "<Figure size 432x288 with 1 Axes>"
      ]
     },
     "metadata": {
      "needs_background": "light"
     },
     "output_type": "display_data"
    }
   ],
   "source": [
    "for col in df.select_dtypes('float'):\n",
    "    plt.figure()\n",
    "    sns.distplot(df[col])"
   ]
  },
  {
   "cell_type": "code",
   "execution_count": 46,
   "metadata": {},
   "outputs": [
    {
     "data": {
      "text/html": [
       "<div>\n",
       "<style scoped>\n",
       "    .dataframe tbody tr th:only-of-type {\n",
       "        vertical-align: middle;\n",
       "    }\n",
       "\n",
       "    .dataframe tbody tr th {\n",
       "        vertical-align: top;\n",
       "    }\n",
       "\n",
       "    .dataframe thead th {\n",
       "        text-align: right;\n",
       "    }\n",
       "</style>\n",
       "<table border=\"1\" class=\"dataframe\">\n",
       "  <thead>\n",
       "    <tr style=\"text-align: right;\">\n",
       "      <th></th>\n",
       "      <th>transaction_hour</th>\n",
       "      <th>product_price_in_euros</th>\n",
       "      <th>product_rating</th>\n",
       "    </tr>\n",
       "  </thead>\n",
       "  <tbody>\n",
       "    <tr>\n",
       "      <th>count</th>\n",
       "      <td>1811.000000</td>\n",
       "      <td>1811.000000</td>\n",
       "      <td>1811.000000</td>\n",
       "    </tr>\n",
       "    <tr>\n",
       "      <th>mean</th>\n",
       "      <td>13.297073</td>\n",
       "      <td>2.999448</td>\n",
       "      <td>4.248482</td>\n",
       "    </tr>\n",
       "    <tr>\n",
       "      <th>std</th>\n",
       "      <td>2.906287</td>\n",
       "      <td>2.128600</td>\n",
       "      <td>1.104532</td>\n",
       "    </tr>\n",
       "    <tr>\n",
       "      <th>min</th>\n",
       "      <td>0.000000</td>\n",
       "      <td>0.000000</td>\n",
       "      <td>0.000000</td>\n",
       "    </tr>\n",
       "    <tr>\n",
       "      <th>25%</th>\n",
       "      <td>12.000000</td>\n",
       "      <td>2.000000</td>\n",
       "      <td>4.000000</td>\n",
       "    </tr>\n",
       "    <tr>\n",
       "      <th>50%</th>\n",
       "      <td>12.000000</td>\n",
       "      <td>2.000000</td>\n",
       "      <td>5.000000</td>\n",
       "    </tr>\n",
       "    <tr>\n",
       "      <th>75%</th>\n",
       "      <td>14.000000</td>\n",
       "      <td>5.000000</td>\n",
       "      <td>5.000000</td>\n",
       "    </tr>\n",
       "    <tr>\n",
       "      <th>max</th>\n",
       "      <td>23.000000</td>\n",
       "      <td>9.000000</td>\n",
       "      <td>5.000000</td>\n",
       "    </tr>\n",
       "  </tbody>\n",
       "</table>\n",
       "</div>"
      ],
      "text/plain": [
       "       transaction_hour  product_price_in_euros  product_rating\n",
       "count       1811.000000             1811.000000     1811.000000\n",
       "mean          13.297073                2.999448        4.248482\n",
       "std            2.906287                2.128600        1.104532\n",
       "min            0.000000                0.000000        0.000000\n",
       "25%           12.000000                2.000000        4.000000\n",
       "50%           12.000000                2.000000        5.000000\n",
       "75%           14.000000                5.000000        5.000000\n",
       "max           23.000000                9.000000        5.000000"
      ]
     },
     "execution_count": 46,
     "metadata": {},
     "output_type": "execute_result"
    }
   ],
   "source": [
    "df.select_dtypes('float').describe()"
   ]
  },
  {
   "cell_type": "markdown",
   "metadata": {},
   "source": [
    "### Visualisation des variables qualitatives"
   ]
  },
  {
   "cell_type": "code",
   "execution_count": 10,
   "metadata": {},
   "outputs": [],
   "source": [
    "# création d'un sous ensemble pour les variables qualitatives\n",
    "Quali = df.drop(['transactionId','transaction_hour','product_price_in_euros','product_rating'],axis=1)"
   ]
  },
  {
   "cell_type": "code",
   "execution_count": 11,
   "metadata": {},
   "outputs": [
    {
     "name": "stdout",
     "output_type": "stream",
     "text": [
      "organizationId------------------------------------ ['734116177bdc841eee69b50f4473bcdb' '68d5360852db85dbbec879986b718e08']\n",
      "transaction_day_of_week--------------------------- ['Wednesday' 'Friday' 'Saturday' 'Tuesday' 'Monday' 'Thursday' 'Sunday']\n",
      "product_is_bio------------------------------------ [False  True]\n",
      "product_is_made_in_france------------------------- [ True False]\n",
      "product_is_vegan---------------------------------- [False  True]\n",
      "product_category_name----------------------------- ['Entrées' 'Desserts' 'Snacks Individuels' 'Plats' 'Boissons Fraîches']\n",
      "product_nutriscore-------------------------------- [nan 'B' 'A' 'D' 'E' 'C' 'a' 'd' 'e' 'c' 'b']\n"
     ]
    }
   ],
   "source": [
    "for col in Quali:\n",
    "    print(f'{col :-<50} {df[col].unique()}')"
   ]
  },
  {
   "cell_type": "code",
   "execution_count": 47,
   "metadata": {},
   "outputs": [],
   "source": [
    "# Correction de la colonne product_nutriscore\n",
    "df['product_nutriscore']=df['product_nutriscore'].str.upper()"
   ]
  },
  {
   "cell_type": "code",
   "execution_count": 78,
   "metadata": {},
   "outputs": [
    {
     "data": {
      "image/png": "[encoded data removed]",
      "text/plain": [
       "<Figure size 432x288 with 1 Axes>"
      ]
     },
     "metadata": {},
     "output_type": "display_data"
    },
    {
     "data": {
      "image/png": "[encoded data removed]",
      "text/plain": [
       "<Figure size 432x288 with 1 Axes>"
      ]
     },
     "metadata": {},
     "output_type": "display_data"
    },
    {
     "data": {
      "image/png": "[encoded data removed]",
      "text/plain": [
       "<Figure size 432x288 with 1 Axes>"
      ]
     },
     "metadata": {},
     "output_type": "display_data"
    },
    {
     "data": {
      "image/png": "[encoded data removed]",
      "text/plain": [
       "<Figure size 432x288 with 1 Axes>"
      ]
     },
     "metadata": {},
     "output_type": "display_data"
    },
    {
     "data": {
      "image/png": "[encoded data removed]",
      "text/plain": [
       "<Figure size 432x288 with 1 Axes>"
      ]
     },
     "metadata": {},
     "output_type": "display_data"
    },
    {
     "data": {
      "image/png": "[encoded data removed]",
      "text/plain": [
       "<Figure size 432x288 with 1 Axes>"
      ]
     },
     "metadata": {},
     "output_type": "display_data"
    },
    {
     "data": {
      "image/png": "[encoded data removed]",
      "text/plain": [
       "<Figure size 432x288 with 1 Axes>"
      ]
     },
     "metadata": {},
     "output_type": "display_data"
    }
   ],
   "source": [
    "# Visualisation des variables qualitatives\n",
    "for col in Quali:\n",
    "    plt.figure()\n",
    "    df[col].value_counts().plot.pie(autopct = lambda x: str(round(x, 2)) + '%')"
   ]
  },
  {
   "cell_type": "markdown",
   "metadata": {},
   "source": [
    "## Analyse plus détaillée"
   ]
  },
  {
   "cell_type": "markdown",
   "metadata": {},
   "source": [
    "#### Analyse des produits notés 0/5"
   ]
  },
  {
   "cell_type": "code",
   "execution_count": 76,
   "metadata": {},
   "outputs": [
    {
     "data": {
      "text/plain": [
       "Snacks Individuels    45\n",
       "Desserts              12\n",
       "Boissons Fraîches      6\n",
       "Plats                  2\n",
       "Name: product_category_name, dtype: int64"
      ]
     },
     "execution_count": 76,
     "metadata": {},
     "output_type": "execute_result"
    }
   ],
   "source": [
    "df[df['product_rating'] == 0]['product_category_name'].value_counts()"
   ]
  },
  {
   "cell_type": "code",
   "execution_count": 77,
   "metadata": {},
   "outputs": [
    {
     "data": {
      "text/plain": [
       "D    7\n",
       "E    4\n",
       "B    1\n",
       "A    1\n",
       "C    1\n",
       "Name: product_nutriscore, dtype: int64"
      ]
     },
     "execution_count": 77,
     "metadata": {},
     "output_type": "execute_result"
    }
   ],
   "source": [
    "df[df['product_rating'] == 0]['product_nutriscore'].value_counts()"
   ]
  },
  {
   "cell_type": "markdown",
   "metadata": {},
   "source": [
    "#### Impact des produits bio"
   ]
  },
  {
   "cell_type": "code",
   "execution_count": 86,
   "metadata": {},
   "outputs": [],
   "source": [
    "df1 = df.drop(['transactionId','transaction_hour','product_is_made_in_france','product_is_vegan'],axis=1)"
   ]
  },
  {
   "cell_type": "code",
   "execution_count": 96,
   "metadata": {},
   "outputs": [
    {
     "data": {
      "text/html": [
       "<div>\n",
       "<style scoped>\n",
       "    .dataframe tbody tr th:only-of-type {\n",
       "        vertical-align: middle;\n",
       "    }\n",
       "\n",
       "    .dataframe tbody tr th {\n",
       "        vertical-align: top;\n",
       "    }\n",
       "\n",
       "    .dataframe thead th {\n",
       "        text-align: right;\n",
       "    }\n",
       "</style>\n",
       "<table border=\"1\" class=\"dataframe\">\n",
       "  <thead>\n",
       "    <tr style=\"text-align: right;\">\n",
       "      <th></th>\n",
       "      <th>product_price_in_euros</th>\n",
       "      <th>product_rating</th>\n",
       "    </tr>\n",
       "    <tr>\n",
       "      <th>product_is_bio</th>\n",
       "      <th></th>\n",
       "      <th></th>\n",
       "    </tr>\n",
       "  </thead>\n",
       "  <tbody>\n",
       "    <tr>\n",
       "      <th>False</th>\n",
       "      <td>3.142857</td>\n",
       "      <td>4.191489</td>\n",
       "    </tr>\n",
       "    <tr>\n",
       "      <th>True</th>\n",
       "      <td>1.578313</td>\n",
       "      <td>4.813253</td>\n",
       "    </tr>\n",
       "  </tbody>\n",
       "</table>\n",
       "</div>"
      ],
      "text/plain": [
       "                product_price_in_euros  product_rating\n",
       "product_is_bio                                        \n",
       "False                         3.142857        4.191489\n",
       "True                          1.578313        4.813253"
      ]
     },
     "execution_count": 96,
     "metadata": {},
     "output_type": "execute_result"
    }
   ],
   "source": [
    "df1.groupby(['product_is_bio']).mean()"
   ]
  },
  {
   "cell_type": "code",
   "execution_count": 87,
   "metadata": {},
   "outputs": [
    {
     "data": {
      "text/html": [
       "<div>\n",
       "<style scoped>\n",
       "    .dataframe tbody tr th:only-of-type {\n",
       "        vertical-align: middle;\n",
       "    }\n",
       "\n",
       "    .dataframe tbody tr th {\n",
       "        vertical-align: top;\n",
       "    }\n",
       "\n",
       "    .dataframe thead th {\n",
       "        text-align: right;\n",
       "    }\n",
       "</style>\n",
       "<table border=\"1\" class=\"dataframe\">\n",
       "  <thead>\n",
       "    <tr style=\"text-align: right;\">\n",
       "      <th></th>\n",
       "      <th></th>\n",
       "      <th>product_price_in_euros</th>\n",
       "      <th>product_rating</th>\n",
       "    </tr>\n",
       "    <tr>\n",
       "      <th>product_is_bio</th>\n",
       "      <th>product_category_name</th>\n",
       "      <th></th>\n",
       "      <th></th>\n",
       "    </tr>\n",
       "  </thead>\n",
       "  <tbody>\n",
       "    <tr>\n",
       "      <th rowspan=\"5\" valign=\"top\">False</th>\n",
       "      <th>Boissons Fraîches</th>\n",
       "      <td>1.419890</td>\n",
       "      <td>4.403315</td>\n",
       "    </tr>\n",
       "    <tr>\n",
       "      <th>Desserts</th>\n",
       "      <td>1.975831</td>\n",
       "      <td>4.205438</td>\n",
       "    </tr>\n",
       "    <tr>\n",
       "      <th>Entrées</th>\n",
       "      <td>2.443114</td>\n",
       "      <td>4.476048</td>\n",
       "    </tr>\n",
       "    <tr>\n",
       "      <th>Plats</th>\n",
       "      <td>6.068093</td>\n",
       "      <td>4.151751</td>\n",
       "    </tr>\n",
       "    <tr>\n",
       "      <th>Snacks Individuels</th>\n",
       "      <td>1.136842</td>\n",
       "      <td>3.778947</td>\n",
       "    </tr>\n",
       "    <tr>\n",
       "      <th rowspan=\"4\" valign=\"top\">True</th>\n",
       "      <th>Boissons Fraîches</th>\n",
       "      <td>1.637255</td>\n",
       "      <td>4.803922</td>\n",
       "    </tr>\n",
       "    <tr>\n",
       "      <th>Desserts</th>\n",
       "      <td>1.000000</td>\n",
       "      <td>5.000000</td>\n",
       "    </tr>\n",
       "    <tr>\n",
       "      <th>Entrées</th>\n",
       "      <td>2.000000</td>\n",
       "      <td>5.000000</td>\n",
       "    </tr>\n",
       "    <tr>\n",
       "      <th>Snacks Individuels</th>\n",
       "      <td>1.480000</td>\n",
       "      <td>4.560000</td>\n",
       "    </tr>\n",
       "  </tbody>\n",
       "</table>\n",
       "</div>"
      ],
      "text/plain": [
       "                                      product_price_in_euros  product_rating\n",
       "product_is_bio product_category_name                                        \n",
       "False          Boissons Fraîches                    1.419890        4.403315\n",
       "               Desserts                             1.975831        4.205438\n",
       "               Entrées                              2.443114        4.476048\n",
       "               Plats                                6.068093        4.151751\n",
       "               Snacks Individuels                   1.136842        3.778947\n",
       "True           Boissons Fraîches                    1.637255        4.803922\n",
       "               Desserts                             1.000000        5.000000\n",
       "               Entrées                              2.000000        5.000000\n",
       "               Snacks Individuels                   1.480000        4.560000"
      ]
     },
     "execution_count": 87,
     "metadata": {},
     "output_type": "execute_result"
    }
   ],
   "source": [
    "df1.groupby(['product_is_bio','product_category_name']).mean()"
   ]
  },
  {
   "cell_type": "markdown",
   "metadata": {},
   "source": [
    "#### Impact des produits vegan"
   ]
  },
  {
   "cell_type": "code",
   "execution_count": 88,
   "metadata": {},
   "outputs": [],
   "source": [
    "df2 = df.drop(['transactionId','transaction_hour','product_is_made_in_france','product_is_bio'],axis=1)"
   ]
  },
  {
   "cell_type": "code",
   "execution_count": 95,
   "metadata": {},
   "outputs": [
    {
     "data": {
      "text/html": [
       "<div>\n",
       "<style scoped>\n",
       "    .dataframe tbody tr th:only-of-type {\n",
       "        vertical-align: middle;\n",
       "    }\n",
       "\n",
       "    .dataframe tbody tr th {\n",
       "        vertical-align: top;\n",
       "    }\n",
       "\n",
       "    .dataframe thead th {\n",
       "        text-align: right;\n",
       "    }\n",
       "</style>\n",
       "<table border=\"1\" class=\"dataframe\">\n",
       "  <thead>\n",
       "    <tr style=\"text-align: right;\">\n",
       "      <th></th>\n",
       "      <th>product_price_in_euros</th>\n",
       "      <th>product_rating</th>\n",
       "    </tr>\n",
       "    <tr>\n",
       "      <th>product_is_vegan</th>\n",
       "      <th></th>\n",
       "      <th></th>\n",
       "    </tr>\n",
       "  </thead>\n",
       "  <tbody>\n",
       "    <tr>\n",
       "      <th>False</th>\n",
       "      <td>3.170157</td>\n",
       "      <td>4.305628</td>\n",
       "    </tr>\n",
       "    <tr>\n",
       "      <th>True</th>\n",
       "      <td>2.077739</td>\n",
       "      <td>3.939929</td>\n",
       "    </tr>\n",
       "  </tbody>\n",
       "</table>\n",
       "</div>"
      ],
      "text/plain": [
       "                  product_price_in_euros  product_rating\n",
       "product_is_vegan                                        \n",
       "False                           3.170157        4.305628\n",
       "True                            2.077739        3.939929"
      ]
     },
     "execution_count": 95,
     "metadata": {},
     "output_type": "execute_result"
    }
   ],
   "source": [
    "df2.groupby(['product_is_vegan']).mean()"
   ]
  },
  {
   "cell_type": "code",
   "execution_count": 89,
   "metadata": {},
   "outputs": [
    {
     "data": {
      "text/html": [
       "<div>\n",
       "<style scoped>\n",
       "    .dataframe tbody tr th:only-of-type {\n",
       "        vertical-align: middle;\n",
       "    }\n",
       "\n",
       "    .dataframe tbody tr th {\n",
       "        vertical-align: top;\n",
       "    }\n",
       "\n",
       "    .dataframe thead th {\n",
       "        text-align: right;\n",
       "    }\n",
       "</style>\n",
       "<table border=\"1\" class=\"dataframe\">\n",
       "  <thead>\n",
       "    <tr style=\"text-align: right;\">\n",
       "      <th></th>\n",
       "      <th></th>\n",
       "      <th>product_price_in_euros</th>\n",
       "      <th>product_rating</th>\n",
       "    </tr>\n",
       "    <tr>\n",
       "      <th>product_is_vegan</th>\n",
       "      <th>product_category_name</th>\n",
       "      <th></th>\n",
       "      <th></th>\n",
       "    </tr>\n",
       "  </thead>\n",
       "  <tbody>\n",
       "    <tr>\n",
       "      <th rowspan=\"5\" valign=\"top\">False</th>\n",
       "      <th>Boissons Fraîches</th>\n",
       "      <td>1.300546</td>\n",
       "      <td>4.633880</td>\n",
       "    </tr>\n",
       "    <tr>\n",
       "      <th>Desserts</th>\n",
       "      <td>1.917404</td>\n",
       "      <td>4.268437</td>\n",
       "    </tr>\n",
       "    <tr>\n",
       "      <th>Entrées</th>\n",
       "      <td>2.525000</td>\n",
       "      <td>4.528571</td>\n",
       "    </tr>\n",
       "    <tr>\n",
       "      <th>Plats</th>\n",
       "      <td>6.088115</td>\n",
       "      <td>4.211066</td>\n",
       "    </tr>\n",
       "    <tr>\n",
       "      <th>Snacks Individuels</th>\n",
       "      <td>1.168067</td>\n",
       "      <td>4.037815</td>\n",
       "    </tr>\n",
       "    <tr>\n",
       "      <th rowspan=\"5\" valign=\"top\">True</th>\n",
       "      <th>Boissons Fraîches</th>\n",
       "      <td>1.860000</td>\n",
       "      <td>4.390000</td>\n",
       "    </tr>\n",
       "    <tr>\n",
       "      <th>Desserts</th>\n",
       "      <td>2.000000</td>\n",
       "      <td>3.750000</td>\n",
       "    </tr>\n",
       "    <tr>\n",
       "      <th>Entrées</th>\n",
       "      <td>2.013699</td>\n",
       "      <td>4.410959</td>\n",
       "    </tr>\n",
       "    <tr>\n",
       "      <th>Plats</th>\n",
       "      <td>5.692308</td>\n",
       "      <td>3.038462</td>\n",
       "    </tr>\n",
       "    <tr>\n",
       "      <th>Snacks Individuels</th>\n",
       "      <td>1.152778</td>\n",
       "      <td>3.194444</td>\n",
       "    </tr>\n",
       "  </tbody>\n",
       "</table>\n",
       "</div>"
      ],
      "text/plain": [
       "                                        product_price_in_euros  product_rating\n",
       "product_is_vegan product_category_name                                        \n",
       "False            Boissons Fraîches                    1.300546        4.633880\n",
       "                 Desserts                             1.917404        4.268437\n",
       "                 Entrées                              2.525000        4.528571\n",
       "                 Plats                                6.088115        4.211066\n",
       "                 Snacks Individuels                   1.168067        4.037815\n",
       "True             Boissons Fraîches                    1.860000        4.390000\n",
       "                 Desserts                             2.000000        3.750000\n",
       "                 Entrées                              2.013699        4.410959\n",
       "                 Plats                                5.692308        3.038462\n",
       "                 Snacks Individuels                   1.152778        3.194444"
      ]
     },
     "execution_count": 89,
     "metadata": {},
     "output_type": "execute_result"
    }
   ],
   "source": [
    "df2.groupby(['product_is_vegan','product_category_name']).mean()"
   ]
  },
  {
   "cell_type": "markdown",
   "metadata": {},
   "source": [
    "#### Impact des produits made in France"
   ]
  },
  {
   "cell_type": "code",
   "execution_count": 90,
   "metadata": {},
   "outputs": [],
   "source": [
    "df3 = df.drop(['transactionId','transaction_hour','product_is_vegan','product_is_bio'],axis=1)"
   ]
  },
  {
   "cell_type": "code",
   "execution_count": 94,
   "metadata": {},
   "outputs": [
    {
     "data": {
      "text/html": [
       "<div>\n",
       "<style scoped>\n",
       "    .dataframe tbody tr th:only-of-type {\n",
       "        vertical-align: middle;\n",
       "    }\n",
       "\n",
       "    .dataframe tbody tr th {\n",
       "        vertical-align: top;\n",
       "    }\n",
       "\n",
       "    .dataframe thead th {\n",
       "        text-align: right;\n",
       "    }\n",
       "</style>\n",
       "<table border=\"1\" class=\"dataframe\">\n",
       "  <thead>\n",
       "    <tr style=\"text-align: right;\">\n",
       "      <th></th>\n",
       "      <th>product_price_in_euros</th>\n",
       "      <th>product_rating</th>\n",
       "    </tr>\n",
       "    <tr>\n",
       "      <th>product_is_made_in_france</th>\n",
       "      <th></th>\n",
       "      <th></th>\n",
       "    </tr>\n",
       "  </thead>\n",
       "  <tbody>\n",
       "    <tr>\n",
       "      <th>False</th>\n",
       "      <td>1.666081</td>\n",
       "      <td>4.166960</td>\n",
       "    </tr>\n",
       "    <tr>\n",
       "      <th>True</th>\n",
       "      <td>3.610306</td>\n",
       "      <td>4.285829</td>\n",
       "    </tr>\n",
       "  </tbody>\n",
       "</table>\n",
       "</div>"
      ],
      "text/plain": [
       "                           product_price_in_euros  product_rating\n",
       "product_is_made_in_france                                        \n",
       "False                                    1.666081        4.166960\n",
       "True                                     3.610306        4.285829"
      ]
     },
     "execution_count": 94,
     "metadata": {},
     "output_type": "execute_result"
    }
   ],
   "source": [
    "df3.groupby(['product_is_made_in_france']).mean()"
   ]
  },
  {
   "cell_type": "code",
   "execution_count": 93,
   "metadata": {},
   "outputs": [
    {
     "data": {
      "text/html": [
       "<div>\n",
       "<style scoped>\n",
       "    .dataframe tbody tr th:only-of-type {\n",
       "        vertical-align: middle;\n",
       "    }\n",
       "\n",
       "    .dataframe tbody tr th {\n",
       "        vertical-align: top;\n",
       "    }\n",
       "\n",
       "    .dataframe thead th {\n",
       "        text-align: right;\n",
       "    }\n",
       "</style>\n",
       "<table border=\"1\" class=\"dataframe\">\n",
       "  <thead>\n",
       "    <tr style=\"text-align: right;\">\n",
       "      <th></th>\n",
       "      <th></th>\n",
       "      <th>product_price_in_euros</th>\n",
       "      <th>product_rating</th>\n",
       "    </tr>\n",
       "    <tr>\n",
       "      <th>product_is_made_in_france</th>\n",
       "      <th>product_category_name</th>\n",
       "      <th></th>\n",
       "      <th></th>\n",
       "    </tr>\n",
       "  </thead>\n",
       "  <tbody>\n",
       "    <tr>\n",
       "      <th rowspan=\"5\" valign=\"top\">False</th>\n",
       "      <th>Boissons Fraîches</th>\n",
       "      <td>1.440217</td>\n",
       "      <td>4.576087</td>\n",
       "    </tr>\n",
       "    <tr>\n",
       "      <th>Desserts</th>\n",
       "      <td>1.654867</td>\n",
       "      <td>4.530973</td>\n",
       "    </tr>\n",
       "    <tr>\n",
       "      <th>Entrées</th>\n",
       "      <td>2.000000</td>\n",
       "      <td>5.000000</td>\n",
       "    </tr>\n",
       "    <tr>\n",
       "      <th>Plats</th>\n",
       "      <td>5.340426</td>\n",
       "      <td>3.872340</td>\n",
       "    </tr>\n",
       "    <tr>\n",
       "      <th>Snacks Individuels</th>\n",
       "      <td>1.084821</td>\n",
       "      <td>3.705357</td>\n",
       "    </tr>\n",
       "    <tr>\n",
       "      <th rowspan=\"5\" valign=\"top\">True</th>\n",
       "      <th>Boissons Fraîches</th>\n",
       "      <td>1.606061</td>\n",
       "      <td>4.494949</td>\n",
       "    </tr>\n",
       "    <tr>\n",
       "      <th>Desserts</th>\n",
       "      <td>2.046218</td>\n",
       "      <td>4.117647</td>\n",
       "    </tr>\n",
       "    <tr>\n",
       "      <th>Entrées</th>\n",
       "      <td>2.420455</td>\n",
       "      <td>4.502841</td>\n",
       "    </tr>\n",
       "    <tr>\n",
       "      <th>Plats</th>\n",
       "      <td>6.141328</td>\n",
       "      <td>4.179872</td>\n",
       "    </tr>\n",
       "    <tr>\n",
       "      <th>Snacks Individuels</th>\n",
       "      <td>1.372093</td>\n",
       "      <td>4.197674</td>\n",
       "    </tr>\n",
       "  </tbody>\n",
       "</table>\n",
       "</div>"
      ],
      "text/plain": [
       "                                                 product_price_in_euros  \\\n",
       "product_is_made_in_france product_category_name                           \n",
       "False                     Boissons Fraîches                    1.440217   \n",
       "                          Desserts                             1.654867   \n",
       "                          Entrées                              2.000000   \n",
       "                          Plats                                5.340426   \n",
       "                          Snacks Individuels                   1.084821   \n",
       "True                      Boissons Fraîches                    1.606061   \n",
       "                          Desserts                             2.046218   \n",
       "                          Entrées                              2.420455   \n",
       "                          Plats                                6.141328   \n",
       "                          Snacks Individuels                   1.372093   \n",
       "\n",
       "                                                 product_rating  \n",
       "product_is_made_in_france product_category_name                  \n",
       "False                     Boissons Fraîches            4.576087  \n",
       "                          Desserts                     4.530973  \n",
       "                          Entrées                      5.000000  \n",
       "                          Plats                        3.872340  \n",
       "                          Snacks Individuels           3.705357  \n",
       "True                      Boissons Fraîches            4.494949  \n",
       "                          Desserts                     4.117647  \n",
       "                          Entrées                      4.502841  \n",
       "                          Plats                        4.179872  \n",
       "                          Snacks Individuels           4.197674  "
      ]
     },
     "execution_count": 93,
     "metadata": {},
     "output_type": "execute_result"
    }
   ],
   "source": [
    "df3.groupby(['product_is_made_in_france','product_category_name']).mean()"
   ]
  },
  {
   "cell_type": "markdown",
   "metadata": {},
   "source": [
    "#### Rafik AKIL"
   ]
  }
 ],
 "metadata": {
  "kernelspec": {
   "display_name": "Python 3",
   "language": "python",
   "name": "python3"
  },
  "language_info": {
   "codemirror_mode": {
    "name": "ipython",
    "version": 3
   },
   "file_extension": ".py",
   "mimetype": "text/x-python",
   "name": "python",
   "nbconvert_exporter": "python",
   "pygments_lexer": "ipython3",
   "version": "3.8.5"
  }
 },
 "nbformat": 4,
 "nbformat_minor": 4
}
